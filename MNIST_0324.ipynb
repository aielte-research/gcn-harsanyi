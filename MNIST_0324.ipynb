{
 "cells": [
  {
   "cell_type": "code",
   "execution_count": 1,
   "id": "domestic-manufacturer",
   "metadata": {},
   "outputs": [
    {
     "ename": "NameError",
     "evalue": "name 'torch' is not defined",
     "output_type": "error",
     "traceback": [
      "\u001b[0;31m---------------------------------------------------------------------------\u001b[0m",
      "\u001b[0;31mNameError\u001b[0m                                 Traceback (most recent call last)",
      "\u001b[0;32m<ipython-input-1-015fdffee7ec>\u001b[0m in \u001b[0;36m<module>\u001b[0;34m\u001b[0m\n\u001b[0;32m----> 1\u001b[0;31m \u001b[0;32mif\u001b[0m \u001b[0mtorch\u001b[0m\u001b[0;34m.\u001b[0m\u001b[0mcuda\u001b[0m\u001b[0;34m.\u001b[0m\u001b[0mis_available\u001b[0m\u001b[0;34m(\u001b[0m\u001b[0;34m)\u001b[0m \u001b[0;32mis\u001b[0m \u001b[0;32mFalse\u001b[0m\u001b[0;34m:\u001b[0m\u001b[0;34m\u001b[0m\u001b[0;34m\u001b[0m\u001b[0m\n\u001b[0m\u001b[1;32m      2\u001b[0m     \u001b[0;32mraise\u001b[0m \u001b[0mException\u001b[0m\u001b[0;34m(\u001b[0m\u001b[0;34m\"GPU device not found, runtime environment should be set to GPU\"\u001b[0m\u001b[0;34m)\u001b[0m\u001b[0;34m\u001b[0m\u001b[0;34m\u001b[0m\u001b[0m\n\u001b[1;32m      3\u001b[0m \u001b[0mprint\u001b[0m\u001b[0;34m(\u001b[0m\u001b[0;34mf\"Using GPU device: {torch.cuda.get_device_name(torch.cuda.current_device())}\"\u001b[0m\u001b[0;34m)\u001b[0m\u001b[0;34m\u001b[0m\u001b[0;34m\u001b[0m\u001b[0m\n",
      "\u001b[0;31mNameError\u001b[0m: name 'torch' is not defined"
     ]
    }
   ],
   "source": [
    "if torch.cuda.is_available() is False:\n",
    "    raise Exception(\"GPU device not found, runtime environment should be set to GPU\")\n",
    "print(f\"Using GPU device: {torch.cuda.get_device_name(torch.cuda.current_device())}\")"
   ]
  },
  {
   "cell_type": "code",
   "execution_count": 4,
   "id": "arabic-sixth",
   "metadata": {},
   "outputs": [],
   "source": [
    "import matplotlib.pyplot as plt\n",
    "import seaborn as sns\n",
    "from torchvision import datasets\n",
    "import torch\n",
    "import torch.nn as nn\n",
    "import torch.optim as optim\n",
    "import numpy as np\n",
    "\n",
    "import time\n",
    "from torch_geometric.data import Data, DataLoader\n",
    "import numpy.linalg as LA\n",
    "import networkx as nx\n",
    "from torch_geometric.utils import to_networkx"
   ]
  },
  {
   "cell_type": "code",
   "execution_count": 42,
   "id": "external-damage",
   "metadata": {},
   "outputs": [],
   "source": [
    "def build_grid(N):\n",
    "    start = time.time()\n",
    "    vertices=x=np.arange(N*N).reshape(N,N)\n",
    "    edges = []\n",
    "    edges_w= []\n",
    "    for i in range(0,vertices.shape[0]-1): #horizontal\n",
    "        for j in range(0,vertices.shape[1]):\n",
    "            edges.append([N*i + j, N*(i+1) + j])\n",
    "            edges_w.append(np.exp(-1))\n",
    "    \n",
    "    for i in range(vertices.shape[1]): #vertical\n",
    "        for j in range(vertices.shape[0]-1):\n",
    "            edges.append([N*i+j, N*i+j+1])\n",
    "            edges_w.append(np.exp(-1))\n",
    "    \n",
    "    for i in range(0,vertices.shape[0]-1): #diagonal /\n",
    "        for j in range(1,vertices.shape[1]):\n",
    "            edges.append([N*i + j, N*(i+1) + j - 1])\n",
    "            edges_w.append(np.exp(-2))\n",
    "    \n",
    "    for i in range(0, vertices.shape[0]-1): #diagonal \\\n",
    "        for j in range(0, vertices.shape[1] - 1):\n",
    "            edges.append([N*i + j, N*(i+1) + j + 1])\n",
    "            edges_w.append(np.exp(-2))\n",
    "    end = time.time()\n",
    "    print(\"building time: \"+ str(end - start))\n",
    "    return np.array(edges).transpose(), edges_w\n",
    "\n"
   ]
  },
  {
   "cell_type": "code",
   "execution_count": 43,
   "id": "labeled-relationship",
   "metadata": {
    "scrolled": false
   },
   "outputs": [],
   "source": [
    "#too slow, doubles edges\n",
    "\n",
    "def build_graph(N, L=2):\n",
    "    start = time.time()\n",
    "    coord=[[i,j] for i in range(N) for j in range(N)]\n",
    "\n",
    "    edge_1=[]\n",
    "    edge_2=[]\n",
    "    edge_weight=[]\n",
    "    for i in range(N*N):\n",
    "        for j in range(N*N):\n",
    "            if not i==j:\n",
    "                z=LA.norm(np.array(coord[i])-np.array(coord[j]))\n",
    "                if float(z)<L:\n",
    "                    edge_1.append(i)\n",
    "                    edge_2.append(j)\n",
    "                    edge_weight.append(np.exp(-z**2))    \n",
    "    edge_index=[edge_1,edge_2]\n",
    "    end = time.time()\n",
    "    print(\"building time: \"+ str(end - start))\n",
    "    return edge_index, edge_weight"
   ]
  },
  {
   "cell_type": "code",
   "execution_count": 44,
   "id": "intended-edinburgh",
   "metadata": {
    "scrolled": true
   },
   "outputs": [],
   "source": [
    "def load_and_transform(train_batch, test_batch, dataset):\n",
    "    start1 = time.time()\n",
    "    if dataset=='mnist':\n",
    "        mnist_train=datasets.MNIST('data', download=True, train=True)\n",
    "        train_X=mnist_train.train_data/256\n",
    "        train_y=mnist_train.targets\n",
    "        mnist_test=datasets.MNIST('data', download=True, train=False)\n",
    "        test_X=mnist_test.test_data/256\n",
    "        test_y=mnist_test.targets\n",
    "        N=28\n",
    "        in_channel=1\n",
    "        edge_index, edge_weight= build_graph(N)\n",
    "        \n",
    "    if dataset=='cifar':\n",
    "        cifar_train = datasets.CIFAR10('data',  train=True, download=True)\n",
    "        train_X= torch.tensor(cifar_train.data/256)\n",
    "        train_y=torch.tensor(cifar_train.targets)\n",
    "        cifar_test = datasets.CIFAR10('data', train=False,download=True)\n",
    "        test_X=torch.tensor(cifar_test.data/256)\n",
    "        test_y=torch.tensor(cifar_test.targets)\n",
    "        N=32\n",
    "        in_channel=3\n",
    "        edge_index, edge_weight= build_graph(N)\n",
    "            \n",
    "    train_list =[]\n",
    "    test_list=[]\n",
    "    train_size=train_X.size(0)\n",
    "    test_size=test_X.size(0)\n",
    "    \n",
    "    edge_index = torch.tensor(edge_index, dtype=torch.long)\n",
    "    edge_weight=torch.tensor(edge_weight).float()\n",
    "    for i in range(train_size):\n",
    "        train_list.append(Data(x=train_X[i].view(N*N,in_channel).float(),y=train_y[i], edge_index=edge_index,edge_attr=edge_weight))\n",
    "        if i<test_size:\n",
    "            test_list.append(Data(x=test_X[i].view(N*N,in_channel).float(),y=test_y[i], edge_index=edge_index,edge_attr=edge_weight))\n",
    "    \n",
    "    train_loader = DataLoader(train_list, batch_size=train_batch)\n",
    "    test_loader = DataLoader(test_list, batch_size=test_batch)\n",
    "    end1 = time.time()\n",
    "    print(\"loading time: \"+ str(end1 - start1))\n",
    "    return train_loader, test_loader, train_list, test_list"
   ]
  },
  {
   "cell_type": "code",
   "execution_count": 6,
   "id": "jewish-powell",
   "metadata": {},
   "outputs": [],
   "source": [
    "def draw_sample(sample):\n",
    "    color=[]\n",
    "    for i in sample.x:\n",
    "        if i>0:\n",
    "            color.append(\"red\")\n",
    "        else:\n",
    "            color.append('black')\n",
    "    coord=[[i,j] for i in range(28) for j in range(28)]\n",
    "    pos = {k: tuple(coord[k]) for k in range(28*28)} \n",
    "    G = to_networkx(sample, to_undirected=True)\n",
    "    G=G.to_undirected()\n",
    "    fig, ax = plt.subplots(figsize=(8, 8))\n",
    "    ax=nx.draw(G,pos=pos, node_size=20,node_color=color)\n",
    "    print(f'Number of nodes: {sample.num_nodes}')\n",
    "    print(f'Number of edges: {sample.num_edges}')\n",
    "    print(f'Average node degree: {2*sample.num_edges / sample.num_nodes:.2f}')\n",
    "    print(f'Target value: {sample.y}')\n",
    "\n",
    "def accuracy(pred, target):\n",
    "        pred=pred.max(axis=1)[1]\n",
    "        corrects = 100.0 *torch.eq(pred, target).sum().float() / len(target)\n",
    "        return corrects.item()"
   ]
  },
  {
   "cell_type": "code",
   "execution_count": 7,
   "id": "median-philadelphia",
   "metadata": {},
   "outputs": [],
   "source": [
    "from torch_geometric.nn import ChebConv\n",
    "class Cheb(nn.Module):\n",
    "    def __init__(self, in_channel,K,hidden, size):\n",
    "        super().__init__()\n",
    "        self.conv1 = ChebConv(in_channel,hidden,K)\n",
    "        self.dense1 = nn.Linear(size*size*hidden,10)\n",
    "        self.relu = nn.ReLU()\n",
    "        self.hidden=hidden\n",
    "        self.size = size\n",
    "        self.layers = [self.conv1]\n",
    "        \n",
    "        self.history= None\n",
    "        \n",
    "    def forward(self, X,edge_index,edge_attr):\n",
    "        h=X\n",
    "        for layer in self.layers:\n",
    "            h = layer(h, edge_index,edge_attr)\n",
    "            h = self.relu(h)\n",
    "        h = h.view(-1,self.size*self.size*self.hidden)\n",
    "        h = self.dense1(h)\n",
    "        return h"
   ]
  },
  {
   "cell_type": "code",
   "execution_count": 8,
   "id": "sexual-catch",
   "metadata": {},
   "outputs": [],
   "source": [
    "def plot_history(history):\n",
    "    fig = plt.figure(figsize=(15, 5))\n",
    "\n",
    "    # Plot the loss history\n",
    "    f1 = fig.add_subplot(121)\n",
    "    plt.title('Loss')\n",
    "    plt.plot(history['train_loss'][0], color='blue', label='train')\n",
    "    plt.xlabel('Batches')\n",
    "    plt.legend()\n",
    "\n",
    "    # Plot the accuracy history\n",
    "    f2 = fig.add_subplot(122)\n",
    "    plt.title('Classification Accuracy')\n",
    "    plt.plot(history['train_accuracy'][0], color='blue', label='train')\n",
    "    plt.xlabel('Batches')\n",
    "    plt.legend()\n",
    "    \n",
    "    plt.show()"
   ]
  },
  {
   "cell_type": "code",
   "execution_count": 10,
   "id": "alleged-classics",
   "metadata": {},
   "outputs": [],
   "source": [
    "def training_loop(BATCH, EPOCHS, MODEL, OPTIMIZER, DATASET,device):\n",
    "    \n",
    "    train_loader, test_loader, train_list, test_list =load_and_transform(BATCH, 1000, DATASET)\n",
    "    \n",
    "    criterion = torch.nn.CrossEntropyLoss()  # Define loss criterion.\n",
    "    history = {'train_loss': [], 'train_accuracy': [], 'test_loss': [],'test_accuracy': [], 'epoch_loss':\n",
    "              [], 'epoch_accuracy':[],'time':None}\n",
    "    \n",
    "    \n",
    "    for epoch in range(EPOCHS):\n",
    "        start=time.time()\n",
    "        train_loss = []\n",
    "        train_acc = []\n",
    "        test_loss = 0\n",
    "        test_acc = 0\n",
    "        for step,data in enumerate(train_loader):\n",
    "            data=data.to(device)\n",
    "            OPTIMIZER.zero_grad()  # Clear gradients.\n",
    "            y_out = MODEL(data.x, data.edge_index, data.edge_attr)# Perform a single forward pass.\n",
    "            loss = criterion(y_out,  data.y)  # Compute the loss solely based on the training nodes.\n",
    "            loss.backward()  # Derive gradients.\n",
    "            OPTIMIZER.step()  # Update parameters based on gradients.\n",
    "            train_loss.append(loss.detach().item())\n",
    "            train_acc.append(accuracy(y_out, data.y))\n",
    "            \n",
    "        epoch_loss=float(\"{:.2f}\".format(sum(train_loss)/(step+1)))\n",
    "        epoch_acc=float(\"{:.2f}\".format(sum(train_acc)/(step+1)))\n",
    "        \n",
    "        for step,data in enumerate(test_loader):\n",
    "            data=data.to(device)\n",
    "            y_out =MODEL(data.x, data.edge_index, data.edge_attr)\n",
    "            loss = criterion(y_out,  data.y) \n",
    "            test_loss += loss.detach().item()\n",
    "            test_acc += accuracy(y_out, data.y)\n",
    "        test_loss = test_loss / (step+1)\n",
    "        test_acc = test_acc / (step+1)\n",
    "        end=time.time()\n",
    "        print(f\"Epoch: {epoch} | Train loss: {epoch_loss} | Train accuracy: {epoch_acc}  | Test loss: {test_loss} | Test accuracy: {test_acc}| Time: {end-start}\")\n",
    "        history['train_loss'].append(train_loss)\n",
    "        history['train_accuracy'].append(train_acc)\n",
    "        history['test_accuracy'].append(test_acc)\n",
    "        history['test_loss'].append(test_loss)\n",
    "        history['epoch_loss'].append(epoch_loss)\n",
    "        history['epoch_accuracy'].append(epoch_acc)\n",
    "        history['time']=end-start\n",
    "    return history"
   ]
  },
  {
   "cell_type": "code",
   "execution_count": 11,
   "id": "developed-magnitude",
   "metadata": {
    "scrolled": false
   },
   "outputs": [
    {
     "ename": "SyntaxError",
     "evalue": "'break' outside loop (<ipython-input-11-a951fcf468f4>, line 1)",
     "output_type": "error",
     "traceback": [
      "\u001b[0;36m  File \u001b[0;32m\"<ipython-input-11-a951fcf468f4>\"\u001b[0;36m, line \u001b[0;32m1\u001b[0m\n\u001b[0;31m    break\u001b[0m\n\u001b[0m    ^\u001b[0m\n\u001b[0;31mSyntaxError\u001b[0m\u001b[0;31m:\u001b[0m 'break' outside loop\n"
     ]
    }
   ],
   "source": [
    "\n",
    "device = torch.cuda.current_device()\n",
    "MODEL_Cheb=Cheb(in_channel=1,K=25, hidden=1, size=28).to(device)\n",
    "OPTIMIZER =  torch.optim.Adam(MODEL_Cheb.parameters(), lr=0.03)   \n",
    "BATCH = 100\n",
    "EPOCHS = 1\n",
    "\n",
    "history = training_loop(BATCH, EPOCHS, MODEL_Cheb, OPTIMIZER, 'mnist',device)\n",
    "\n",
    "\n"
   ]
  },
  {
   "cell_type": "code",
   "execution_count": 11,
   "id": "sonic-joseph",
   "metadata": {},
   "outputs": [
    {
     "name": "stdout",
     "output_type": "stream",
     "text": [
      "=================================================================\n",
      "Layer (type:depth-idx)                   Param #\n",
      "=================================================================\n",
      "├─ChebConv: 1-1                          26\n",
      "├─Linear: 1-2                            7,850\n",
      "├─ReLU: 1-3                              --\n",
      "=================================================================\n",
      "Total params: 7,876\n",
      "Trainable params: 7,876\n",
      "Non-trainable params: 0\n",
      "=================================================================\n"
     ]
    },
    {
     "data": {
      "text/plain": [
       "=================================================================\n",
       "Layer (type:depth-idx)                   Param #\n",
       "=================================================================\n",
       "├─ChebConv: 1-1                          26\n",
       "├─Linear: 1-2                            7,850\n",
       "├─ReLU: 1-3                              --\n",
       "=================================================================\n",
       "Total params: 7,876\n",
       "Trainable params: 7,876\n",
       "Non-trainable params: 0\n",
       "================================================================="
      ]
     },
     "execution_count": 11,
     "metadata": {},
     "output_type": "execute_result"
    }
   ],
   "source": [
    "from torchsummary import summary\n",
    "summary(MODEL_Cheb)"
   ]
  },
  {
   "cell_type": "code",
   "execution_count": 12,
   "id": "psychological-midwest",
   "metadata": {
    "scrolled": true
   },
   "outputs": [
    {
     "data": {
      "image/png": "[encoded data removed]",
      "text/plain": [
       "<Figure size 1080x360 with 2 Axes>"
      ]
     },
     "metadata": {
      "needs_background": "light"
     },
     "output_type": "display_data"
    }
   ],
   "source": [
    "plot_history(history)"
   ]
  },
  {
   "cell_type": "code",
   "execution_count": 26,
   "id": "rolled-disability",
   "metadata": {},
   "outputs": [
    {
     "ename": "NameError",
     "evalue": "name 'train_list' is not defined",
     "output_type": "error",
     "traceback": [
      "\u001b[0;31m---------------------------------------------------------------------------\u001b[0m",
      "\u001b[0;31mNameError\u001b[0m                                 Traceback (most recent call last)",
      "\u001b[0;32m<ipython-input-26-2f329e209019>\u001b[0m in \u001b[0;36m<module>\u001b[0;34m\u001b[0m\n\u001b[0;32m----> 1\u001b[0;31m \u001b[0msample\u001b[0m\u001b[0;34m=\u001b[0m\u001b[0mtrain_list\u001b[0m\u001b[0;34m[\u001b[0m\u001b[0;36m5\u001b[0m\u001b[0;34m]\u001b[0m\u001b[0;34m\u001b[0m\u001b[0;34m\u001b[0m\u001b[0m\n\u001b[0m\u001b[1;32m      2\u001b[0m \u001b[0mfig\u001b[0m\u001b[0;34m,\u001b[0m \u001b[0maxs\u001b[0m \u001b[0;34m=\u001b[0m \u001b[0mplt\u001b[0m\u001b[0;34m.\u001b[0m\u001b[0msubplots\u001b[0m\u001b[0;34m(\u001b[0m\u001b[0;36m2\u001b[0m\u001b[0;34m,\u001b[0m \u001b[0;36m5\u001b[0m\u001b[0;34m)\u001b[0m\u001b[0;34m\u001b[0m\u001b[0;34m\u001b[0m\u001b[0m\n\u001b[1;32m      3\u001b[0m \u001b[0mtemp\u001b[0m\u001b[0;34m=\u001b[0m\u001b[0;36m0\u001b[0m\u001b[0;34m\u001b[0m\u001b[0;34m\u001b[0m\u001b[0m\n\u001b[1;32m      4\u001b[0m \u001b[0;32mfor\u001b[0m \u001b[0mi\u001b[0m \u001b[0;32min\u001b[0m \u001b[0mrange\u001b[0m\u001b[0;34m(\u001b[0m\u001b[0;36m2\u001b[0m\u001b[0;34m)\u001b[0m\u001b[0;34m:\u001b[0m\u001b[0;34m\u001b[0m\u001b[0;34m\u001b[0m\u001b[0m\n\u001b[1;32m      5\u001b[0m     \u001b[0;32mfor\u001b[0m \u001b[0mj\u001b[0m \u001b[0;32min\u001b[0m \u001b[0mrange\u001b[0m\u001b[0;34m(\u001b[0m\u001b[0;36m5\u001b[0m\u001b[0;34m)\u001b[0m\u001b[0;34m:\u001b[0m\u001b[0;34m\u001b[0m\u001b[0;34m\u001b[0m\u001b[0m\n",
      "\u001b[0;31mNameError\u001b[0m: name 'train_list' is not defined"
     ]
    }
   ],
   "source": [
    "sample=train_list[5]\n",
    "fig, axs = plt.subplots(2, 5)\n",
    "temp=0\n",
    "for i in range(2):\n",
    "    for j in range(5):\n",
    "        a=MODEL_Cheb(sample.x,sample.edge_index,sample.edge_attr)[1][:,temp]\n",
    "        axs[i,j].imshow(a.view(28,28).detach().numpy())\n",
    "        temp=temp+1\n",
    "sample.y"
   ]
  },
  {
   "cell_type": "code",
   "execution_count": 490,
   "id": "velvet-parade",
   "metadata": {},
   "outputs": [
    {
     "name": "stdout",
     "output_type": "stream",
     "text": [
      "building time: 6.151581048965454\n",
      "loading time: 1.1875615119934082\n",
      "Epoch: 0 | Train loss: 0.4 | Train accuracy: 88.65  | Test loss: 0.44127815663814546 | Test accuracy: 86.65999984741211| Time: 21.550033807754517\n",
      "building time: 6.0241334438323975\n",
      "loading time: 1.2029871940612793\n",
      "Epoch: 0 | Train loss: 0.36 | Train accuracy: 89.65  | Test loss: 0.3417319476604462 | Test accuracy: 89.59000091552734| Time: 24.386364936828613\n",
      "building time: 6.09130859375\n",
      "loading time: 0.8451826572418213\n",
      "Epoch: 0 | Train loss: 0.36 | Train accuracy: 89.76  | Test loss: 0.3392939239740372 | Test accuracy: 90.0| Time: 27.398553371429443\n",
      "building time: 6.030961275100708\n",
      "loading time: 1.2891438007354736\n",
      "Epoch: 0 | Train loss: 0.31 | Train accuracy: 91.06  | Test loss: 0.24367780834436417 | Test accuracy: 92.95| Time: 30.32615876197815\n",
      "building time: 6.054934024810791\n",
      "loading time: 1.1854994297027588\n",
      "Epoch: 0 | Train loss: 0.32 | Train accuracy: 90.82  | Test loss: 0.3089919835329056 | Test accuracy: 91.0999984741211| Time: 33.26429057121277\n",
      "building time: 6.068496227264404\n",
      "loading time: 1.190342664718628\n",
      "Epoch: 0 | Train loss: 0.39 | Train accuracy: 89.58  | Test loss: 0.2505579248070717 | Test accuracy: 92.72999954223633| Time: 36.07391571998596\n",
      "building time: 6.018977642059326\n",
      "loading time: 1.2090027332305908\n",
      "Epoch: 0 | Train loss: 0.24 | Train accuracy: 93.18  | Test loss: 0.1948772430419922 | Test accuracy: 94.51999893188477| Time: 38.96000909805298\n",
      "building time: 6.058171987533569\n",
      "loading time: 0.8504104614257812\n",
      "Epoch: 0 | Train loss: 0.25 | Train accuracy: 93.28  | Test loss: 0.20048250630497932 | Test accuracy: 94.2500015258789| Time: 41.77847719192505\n",
      "building time: 6.053926706314087\n",
      "loading time: 1.160323143005371\n",
      "Epoch: 0 | Train loss: 0.43 | Train accuracy: 91.08  | Test loss: 0.28075017780065536 | Test accuracy: 91.3| Time: 44.63249087333679\n",
      "building time: 6.032274961471558\n",
      "loading time: 1.1686208248138428\n",
      "Epoch: 0 | Train loss: 0.53 | Train accuracy: 88.4  | Test loss: 0.3284567639231682 | Test accuracy: 91.2| Time: 47.77701473236084\n",
      "building time: 6.019275426864624\n",
      "loading time: 1.209305763244629\n",
      "Epoch: 0 | Train loss: 0.35 | Train accuracy: 92.87  | Test loss: 0.13169911690056324 | Test accuracy: 96.08000030517579| Time: 50.512293577194214\n",
      "building time: 6.050480127334595\n",
      "loading time: 1.296229362487793\n",
      "Epoch: 0 | Train loss: 0.31 | Train accuracy: 92.61  | Test loss: 0.13735651671886445 | Test accuracy: 95.5| Time: 53.75855278968811\n",
      "building time: 6.03685736656189\n",
      "loading time: 0.8352656364440918\n",
      "Epoch: 0 | Train loss: 0.31 | Train accuracy: 92.52  | Test loss: 0.21418400332331658 | Test accuracy: 94.4| Time: 56.44969296455383\n",
      "building time: 6.060661792755127\n",
      "loading time: 1.1735010147094727\n",
      "Epoch: 0 | Train loss: 0.34 | Train accuracy: 92.02  | Test loss: 0.24940671473741532 | Test accuracy: 92.80000076293945| Time: 59.23294162750244\n",
      "building time: 6.030897617340088\n",
      "loading time: 1.2516233921051025\n",
      "Epoch: 0 | Train loss: 0.35 | Train accuracy: 92.44  | Test loss: 0.15271303206682205 | Test accuracy: 95.45| Time: 62.29487490653992\n",
      "building time: 5.997857093811035\n",
      "loading time: 1.2496592998504639\n",
      "Epoch: 0 | Train loss: 0.29 | Train accuracy: 92.93  | Test loss: 0.18180617243051528 | Test accuracy: 94.53000030517578| Time: 65.18623185157776\n",
      "building time: 6.026623725891113\n",
      "loading time: 0.8327319622039795\n",
      "Epoch: 0 | Train loss: 0.29 | Train accuracy: 93.04  | Test loss: 0.16408240795135498 | Test accuracy: 95.30999984741212| Time: 68.03560495376587\n",
      "building time: 6.080316066741943\n",
      "loading time: 1.1484830379486084\n",
      "Epoch: 0 | Train loss: 0.28 | Train accuracy: 93.17  | Test loss: 0.14405584819614886 | Test accuracy: 95.60999908447266| Time: 71.22818088531494\n",
      "building time: 6.115527391433716\n",
      "loading time: 1.3019285202026367\n",
      "Epoch: 0 | Train loss: 0.24 | Train accuracy: 93.63  | Test loss: 0.14854602217674256 | Test accuracy: 95.81999893188477| Time: 74.03854084014893\n",
      "building time: 6.084427118301392\n",
      "loading time: 1.191847801208496\n",
      "Epoch: 0 | Train loss: 0.27 | Train accuracy: 93.53  | Test loss: 0.22273680940270424 | Test accuracy: 94.26000061035157| Time: 76.62915682792664\n",
      "building time: 6.15921425819397\n",
      "loading time: 1.1872265338897705\n",
      "Epoch: 0 | Train loss: 0.32 | Train accuracy: 92.87  | Test loss: 0.15684270896017552 | Test accuracy: 95.55| Time: 79.45223116874695\n",
      "building time: 6.0816969871521\n",
      "loading time: 0.8432185649871826\n",
      "Epoch: 0 | Train loss: 0.32 | Train accuracy: 92.55  | Test loss: 0.21390200927853584 | Test accuracy: 94.87000045776367| Time: 82.64479780197144\n",
      "building time: 6.056344509124756\n",
      "loading time: 1.304551601409912\n",
      "Epoch: 0 | Train loss: 0.29 | Train accuracy: 92.94  | Test loss: 0.17073109224438668 | Test accuracy: 95.36000061035156| Time: 85.48687386512756\n",
      "building time: 6.0329179763793945\n",
      "loading time: 1.2103791236877441\n",
      "Epoch: 0 | Train loss: 0.31 | Train accuracy: 93.28  | Test loss: 0.2823521450161934 | Test accuracy: 92.40999832153321| Time: 88.68039131164551\n",
      "building time: 6.1063148975372314\n",
      "loading time: 1.2952938079833984\n",
      "Epoch: 0 | Train loss: 0.4 | Train accuracy: 92.06  | Test loss: 0.16786794289946555 | Test accuracy: 94.85999984741211| Time: 91.4733464717865\n",
      "1592.7212290763855\n"
     ]
    }
   ],
   "source": [
    "\n",
    "BATCH = 100\n",
    "EPOCHS = 1\n",
    "DENSITY=2\n",
    "models={}\n",
    "START=time.time()\n",
    "for i in range(1,26):    \n",
    "    models['Cheb_'+str(i)]=Cheb(i,10)\n",
    "    OPTIMIZER =  torch.optim.Adam(models['Cheb_'+str(i)].parameters(), lr=0.03)   \n",
    "    models['Cheb_'+str(i)].history=training_loop(DENSITY, BATCH, EPOCHS, models['Cheb_'+str(i)], OPTIMIZER)\n",
    "END=time.time()\n",
    "print(END-START)\n"
   ]
  },
  {
   "cell_type": "code",
   "execution_count": 496,
   "id": "talented-calvin",
   "metadata": {},
   "outputs": [
    {
     "data": {
      "text/plain": [
       "<matplotlib.legend.Legend at 0x7f99484231f0>"
      ]
     },
     "execution_count": 496,
     "metadata": {},
     "output_type": "execute_result"
    },
    {
     "data": {
      "image/png": "[encoded data removed]",
      "text/plain": [
       "<Figure size 1080x360 with 2 Axes>"
      ]
     },
     "metadata": {
      "needs_background": "light"
     },
     "output_type": "display_data"
    }
   ],
   "source": [
    "fig = plt.figure(figsize=(15, 5))\n",
    "\n",
    "    # Plot the loss history\n",
    "f1 = fig.add_subplot(121)\n",
    "plt.title('Loss')\n",
    "plt.plot(models['Cheb_20'].history['train_loss'][0][:50], color='green', label='C20')\n",
    "plt.plot(models['Cheb_10'].history['train_loss'][0][:50], color='blue', label='C10')\n",
    "plt.plot(models['Cheb_1'].history['train_loss'][0][:50], color='red', label='C1')\n",
    "plt.xlabel('Batches')\n",
    "plt.legend()\n",
    "\n",
    "f2 = fig.add_subplot(122)\n",
    "plt.title('Classification Accuracy')\n",
    "plt.plot(models['Cheb_20'].history['train_accuracy'][0][:50], color='green', label='C20')\n",
    "plt.plot(models['Cheb_10'].history['train_accuracy'][0][:50], color='blue', label='C10')\n",
    "plt.plot(models['Cheb_1'].history['train_accuracy'][0][:50], color='red', label='C1')\n",
    "plt.xlabel('Batches')\n",
    "plt.legend()"
   ]
  },
  {
   "cell_type": "code",
   "execution_count": 19,
   "id": "registered-homeless",
   "metadata": {
    "scrolled": true
   },
   "outputs": [],
   "source": [
    "from torch_geometric.nn import BatchNorm\n",
    "from torch_geometric.nn import ARMAConv\n",
    "class ARMA(nn.Module):\n",
    "    def __init__(self, in_channel,hidden, K,N, size):\n",
    "        super().__init__()\n",
    "        self.conv1 = ARMAConv(in_channel,hidden,num_stacks=K, num_layers=N)\n",
    "        #self.bn1 = BatchNorm(1024)\n",
    "        self.dense1 = nn.Linear(size*size*hidden,10)\n",
    "        self.relu = nn.ReLU()\n",
    "        self.hidden=hidden\n",
    "        self.size = size\n",
    "        self.layers = self.conv1\n",
    "        \n",
    "        self.history= None\n",
    "        \n",
    "    def forward(self,X,edge_index,edge_attr):\n",
    "        #edge_index,edge_attr=dropout_adj(edge_index,edge_attr)\n",
    "        h=X\n",
    "        h = self.conv1(h, edge_index,edge_attr)\n",
    "        #h = self.bn1(h)\n",
    "        h = self.relu(h)\n",
    "        h = h.view(-1,self.size*self.size*self.hidden)\n",
    "        h = self.dense1(h)\n",
    "        return h"
   ]
  },
  {
   "cell_type": "code",
   "execution_count": 20,
   "id": "declared-apartment",
   "metadata": {},
   "outputs": [
    {
     "name": "stdout",
     "output_type": "stream",
     "text": [
      "building time: 6.097327470779419\n",
      "loading time: 7.315778493881226\n",
      "Epoch: 0 | Train loss: 0.39 | Train accuracy: 88.98  | Test loss: 0.34025167375802995 | Test accuracy: 89.80000534057618| Time: 23.899452924728394\n"
     ]
    }
   ],
   "source": [
    "device = torch.cuda.current_device()\n",
    "MODEL_ARMA=ARMA(in_channel=1,K=5,N=3, hidden=10, size=28).to(device)\n",
    "OPTIMIZER =  torch.optim.Adam(MODEL_ARMA.parameters(), lr=0.03)   \n",
    "BATCH = 100\n",
    "EPOCHS = 1\n",
    "\n",
    "history = training_loop(BATCH, EPOCHS, MODEL_ARMA, OPTIMIZER, 'mnist',device)\n"
   ]
  },
  {
   "cell_type": "code",
   "execution_count": null,
   "id": "statistical-aside",
   "metadata": {},
   "outputs": [],
   "source": []
  },
  {
   "cell_type": "code",
   "execution_count": 15,
   "id": "challenging-mounting",
   "metadata": {},
   "outputs": [
    {
     "name": "stdout",
     "output_type": "stream",
     "text": [
      "=================================================================\n",
      "Layer (type:depth-idx)                   Param #\n",
      "=================================================================\n",
      "├─ARMAConv: 1-1                          810\n",
      "├─Linear: 1-2                            78,410\n",
      "├─ReLU: 1-3                              --\n",
      "=================================================================\n",
      "Total params: 79,220\n",
      "Trainable params: 79,220\n",
      "Non-trainable params: 0\n",
      "=================================================================\n"
     ]
    },
    {
     "data": {
      "text/plain": [
       "=================================================================\n",
       "Layer (type:depth-idx)                   Param #\n",
       "=================================================================\n",
       "├─ARMAConv: 1-1                          810\n",
       "├─Linear: 1-2                            78,410\n",
       "├─ReLU: 1-3                              --\n",
       "=================================================================\n",
       "Total params: 79,220\n",
       "Trainable params: 79,220\n",
       "Non-trainable params: 0\n",
       "================================================================="
      ]
     },
     "execution_count": 15,
     "metadata": {},
     "output_type": "execute_result"
    }
   ],
   "source": [
    "from torchsummary import summary\n",
    "summary(MODEL_ARMA)"
   ]
  },
  {
   "cell_type": "code",
   "execution_count": 46,
   "id": "detected-owner",
   "metadata": {},
   "outputs": [
    {
     "name": "stdout",
     "output_type": "stream",
     "text": [
      "building time: 6.231624603271484\n",
      "loading time: 7.255645275115967\n"
     ]
    },
    {
     "data": {
      "text/plain": [
       "Data(edge_attr=[5940], edge_index=[2, 5940], x=[784, 1], y=5)"
      ]
     },
     "execution_count": 46,
     "metadata": {},
     "output_type": "execute_result"
    }
   ],
   "source": [
    "train_loader, test_loader,train_list, test_list=load_and_transform(100, 1000, 'mnist')\n",
    "train_list[0]\n",
    "    "
   ]
  }
 ],
 "metadata": {
  "kernelspec": {
   "display_name": "Python 3",
   "language": "python",
   "name": "python3"
  },
  "language_info": {
   "codemirror_mode": {
    "name": "ipython",
    "version": 3
   },
   "file_extension": ".py",
   "mimetype": "text/x-python",
   "name": "python",
   "nbconvert_exporter": "python",
   "pygments_lexer": "ipython3",
   "version": "3.8.5"
  },
  "neptune": {
   "notebookId": "792b9426-8ff0-4fa7-8ba7-e11fc4534048",
   "projectVersion": 1
  }
 },
 "nbformat": 4,
 "nbformat_minor": 5
}
